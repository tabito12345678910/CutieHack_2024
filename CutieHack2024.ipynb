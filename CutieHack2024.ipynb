{
  "cells": [
    {
      "cell_type": "code",
      "execution_count": null,
      "metadata": {
        "id": "ehufCIKJ2Xti"
      },
      "outputs": [],
      "source": [
        "!pip install discord.py\n",
        "!pip install nest_asyncio\n",
        "!pip install pynacl\n",
        "\n",
        "#install library"
      ]
    },
    {
      "cell_type": "markdown",
      "metadata": {
        "id": "FUKaGZaEi680"
      },
      "source": [
        "Sharable link for Google drive:\n",
        "\n",
        "[link text](https://drive.google.com/drive/folders/13ZD4aSb7zlXMAuU0yqr6gaq9JpMUpK1a?usp=sharing)\n",
        "\n",
        "Move this folder to MyDrive, for code to work."
      ]
    },
    {
      "cell_type": "code",
      "execution_count": null,
      "metadata": {
        "colab": {
          "base_uri": "https://localhost:8080/"
        },
        "id": "puKSF8fNaSGE",
        "outputId": "6fe4eb59-8ed2-4a2d-8439-4f29acaae746"
      },
      "outputs": [
        {
          "output_type": "stream",
          "name": "stdout",
          "text": [
            "Drive already mounted at /content/drive; to attempt to forcibly remount, call drive.mount(\"/content/drive\", force_remount=True).\n"
          ]
        }
      ],
      "source": [
        "from google.colab import drive\n",
        "import pandas as pd\n",
        "#import data\n",
        "drive.mount('/content/drive')\n",
        "df = pd.read_csv('/content/drive/MyDrive/CutieHack2024/Stars_Names.csv')\n",
        "df = df.dropna(subset=['Constellation'])\n",
        "Constellations = df['Constellation'].str.lower()\n",
        "Sorted_Constellations = sorted(Constellations)\n"
      ]
    },
    {
      "cell_type": "code",
      "execution_count": null,
      "metadata": {
        "id": "aeAa1n1dmFbR"
      },
      "outputs": [],
      "source": [
        "#bad word checker\n",
        "\n",
        "#BST\n",
        "\n",
        "def binarySearch(arr, low, high, x):\n",
        "  while low <= high:\n",
        "      mid = low + (high - low) // 2\n",
        "      if arr[mid] == x:\n",
        "            return mid\n",
        "      elif arr[mid] < x:\n",
        "            low = mid + 1\n",
        "      else:\n",
        "          high = mid - 1\n",
        "  return -1\n",
        "\n",
        "\n",
        "\n",
        "import re\n",
        "\n",
        "def parse_sentence(sentence):\n",
        "    parsed = re.findall(r'\\b\\w+\\b', sentence)\n",
        "\n",
        "    parsed_lowercase = [word.lower() for word in parsed]\n",
        "\n",
        "    return parsed_lowercase"
      ]
    },
    {
      "cell_type": "code",
      "execution_count": null,
      "metadata": {
        "id": "2FJ__mgFPZfJ"
      },
      "outputs": [],
      "source": [
        "#malware checker\n",
        "import requests\n",
        "import re\n",
        "\n",
        "class Malware_checker:\n",
        "\n",
        "  def __init__(self, link):\n",
        "    self.url = \"https://www.virustotal.com/api/v3/urls\"\n",
        "    self.api_key = 'bbcb1de411104dc6bbe6cc36e083b10e41cb9c29ad0ecc113a20d914b9f70772'\n",
        "    self.headers = {\n",
        "    \"accept\": \"application/json\",\n",
        "    \"content-type\": \"application/x-www-form-urlencoded\",\n",
        "    \"x-apikey\": self.api_key\n",
        "  }\n",
        "    self.link = link\n",
        "\n",
        "  def Check_if_Link(self):\n",
        "    url = r'(https?://\\S+|www\\.\\S+)'\n",
        "    try:\n",
        "      if re.match(url, self.__link):\n",
        "          return True\n",
        "      else:\n",
        "        return False\n",
        "    except Exception:\n",
        "      pass\n",
        "\n",
        "  def Check_if_link_is_Malware(self):\n",
        "    try:\n",
        "      if self.Check_if_Link():\n",
        "        response = requests.post(self.url, headers=self.headers, data=self.link)\n",
        "        if response.status_code == 200:\n",
        "          return True\n",
        "      else:\n",
        "        return False\n",
        "    except Exception:\n",
        "      pass"
      ]
    },
    {
      "cell_type": "code",
      "execution_count": null,
      "metadata": {
        "colab": {
          "base_uri": "https://localhost:8080/"
        },
        "id": "MKxp5Yl_3YE6",
        "outputId": "7ff69afd-576a-4e51-b183-cd4bc106aa7b"
      },
      "outputs": [
        {
          "output_type": "stream",
          "name": "stderr",
          "text": [
            "\u001b[30;1m2024-11-17 02:15:07\u001b[0m \u001b[34;1mINFO    \u001b[0m \u001b[35mdiscord.client\u001b[0m logging in using static token\n",
            "\u001b[30;1m2024-11-17 02:15:07\u001b[0m \u001b[34;1mINFO    \u001b[0m \u001b[35mdiscord.client\u001b[0m logging in using static token\n",
            "\u001b[30;1m2024-11-17 02:15:07\u001b[0m \u001b[34;1mINFO    \u001b[0m \u001b[35mdiscord.client\u001b[0m logging in using static token\n",
            "\u001b[30;1m2024-11-17 02:15:07\u001b[0m \u001b[34;1mINFO    \u001b[0m \u001b[35mdiscord.client\u001b[0m logging in using static token\n",
            "\u001b[30;1m2024-11-17 02:15:07\u001b[0m \u001b[34;1mINFO    \u001b[0m \u001b[35mdiscord.client\u001b[0m logging in using static token\n",
            "\u001b[30;1m2024-11-17 02:15:07\u001b[0m \u001b[34;1mINFO    \u001b[0m \u001b[35mdiscord.client\u001b[0m logging in using static token\n",
            "\u001b[30;1m2024-11-17 02:15:07\u001b[0m \u001b[34;1mINFO    \u001b[0m \u001b[35mdiscord.client\u001b[0m logging in using static token\n",
            "\u001b[30;1m2024-11-17 02:15:07\u001b[0m \u001b[34;1mINFO    \u001b[0m \u001b[35mdiscord.client\u001b[0m logging in using static token\n",
            "\u001b[30;1m2024-11-17 02:15:07\u001b[0m \u001b[34;1mINFO    \u001b[0m \u001b[35mdiscord.client\u001b[0m logging in using static token\n",
            "\u001b[30;1m2024-11-17 02:15:07\u001b[0m \u001b[34;1mINFO    \u001b[0m \u001b[35mdiscord.client\u001b[0m logging in using static token\n",
            "\u001b[30;1m2024-11-17 02:15:07\u001b[0m \u001b[34;1mINFO    \u001b[0m \u001b[35mdiscord.client\u001b[0m logging in using static token\n",
            "INFO:discord.client:logging in using static token\n",
            "\u001b[30;1m2024-11-17 02:15:08\u001b[0m \u001b[34;1mINFO    \u001b[0m \u001b[35mdiscord.gateway\u001b[0m Shard ID None has connected to Gateway (Session ID: 0c51440fac7955576cc29995270a6ad3).\n",
            "\u001b[30;1m2024-11-17 02:15:08\u001b[0m \u001b[34;1mINFO    \u001b[0m \u001b[35mdiscord.gateway\u001b[0m Shard ID None has connected to Gateway (Session ID: 0c51440fac7955576cc29995270a6ad3).\n",
            "\u001b[30;1m2024-11-17 02:15:08\u001b[0m \u001b[34;1mINFO    \u001b[0m \u001b[35mdiscord.gateway\u001b[0m Shard ID None has connected to Gateway (Session ID: 0c51440fac7955576cc29995270a6ad3).\n",
            "\u001b[30;1m2024-11-17 02:15:08\u001b[0m \u001b[34;1mINFO    \u001b[0m \u001b[35mdiscord.gateway\u001b[0m Shard ID None has connected to Gateway (Session ID: 0c51440fac7955576cc29995270a6ad3).\n",
            "\u001b[30;1m2024-11-17 02:15:08\u001b[0m \u001b[34;1mINFO    \u001b[0m \u001b[35mdiscord.gateway\u001b[0m Shard ID None has connected to Gateway (Session ID: 0c51440fac7955576cc29995270a6ad3).\n",
            "\u001b[30;1m2024-11-17 02:15:08\u001b[0m \u001b[34;1mINFO    \u001b[0m \u001b[35mdiscord.gateway\u001b[0m Shard ID None has connected to Gateway (Session ID: 0c51440fac7955576cc29995270a6ad3).\n",
            "\u001b[30;1m2024-11-17 02:15:08\u001b[0m \u001b[34;1mINFO    \u001b[0m \u001b[35mdiscord.gateway\u001b[0m Shard ID None has connected to Gateway (Session ID: 0c51440fac7955576cc29995270a6ad3).\n",
            "\u001b[30;1m2024-11-17 02:15:08\u001b[0m \u001b[34;1mINFO    \u001b[0m \u001b[35mdiscord.gateway\u001b[0m Shard ID None has connected to Gateway (Session ID: 0c51440fac7955576cc29995270a6ad3).\n",
            "\u001b[30;1m2024-11-17 02:15:08\u001b[0m \u001b[34;1mINFO    \u001b[0m \u001b[35mdiscord.gateway\u001b[0m Shard ID None has connected to Gateway (Session ID: 0c51440fac7955576cc29995270a6ad3).\n",
            "\u001b[30;1m2024-11-17 02:15:08\u001b[0m \u001b[34;1mINFO    \u001b[0m \u001b[35mdiscord.gateway\u001b[0m Shard ID None has connected to Gateway (Session ID: 0c51440fac7955576cc29995270a6ad3).\n",
            "\u001b[30;1m2024-11-17 02:15:08\u001b[0m \u001b[34;1mINFO    \u001b[0m \u001b[35mdiscord.gateway\u001b[0m Shard ID None has connected to Gateway (Session ID: 0c51440fac7955576cc29995270a6ad3).\n",
            "INFO:discord.gateway:Shard ID None has connected to Gateway (Session ID: 0c51440fac7955576cc29995270a6ad3).\n"
          ]
        },
        {
          "output_type": "stream",
          "name": "stdout",
          "text": [
            "We have logged in as 1984 Bot#4865\n"
          ]
        }
      ],
      "source": [
        "from posixpath import join\n",
        "import discord\n",
        "import nest_asyncio\n",
        "nest_asyncio.apply()\n",
        "from discord.ext import commands\n",
        "from datetime import datetime\n",
        "import pytz\n",
        "\n",
        "\n",
        "\n",
        "\n",
        "\n",
        "\n",
        "intents = discord.Intents.default()\n",
        "intents.members = True\n",
        "intents.message_content = True\n",
        "token = 'MTMwNzM4MzE0NzAxNjYxODA5NQ.GSeVFi.HC3DBP9yFX8jZ1_GbvzjJQDucGd6ZLyS3AL-2M'\n",
        "\n",
        "bot = commands.Bot(command_prefix='!', intents=intents)\n",
        "\n",
        "\n",
        "@bot.event\n",
        "async def on_message(message):\n",
        "    if message.author == bot.user:\n",
        "        return\n",
        "    await bot.process_commands(message)\n",
        "\n",
        "    # Parse the message into words\n",
        "    words = parse_sentence(message.content)\n",
        "    already_striked = False\n",
        "    found_match = False\n",
        "    recipient = None\n",
        "    checker = Malware_checker(message)\n",
        "    if checker.Check_if_link_is_Malware():\n",
        "      await message.delete()\n",
        "      await message.channel.send('The message just sent has potential risk of being malware, message deleted')\n",
        "    else:\n",
        "      for word in words:\n",
        "          low = 0\n",
        "          high = len(Sorted_Constellations) - 1\n",
        "          index = binarySearch(Sorted_Constellations, low, high, word)\n",
        "\n",
        "          if index != -1 and not found_match:\n",
        "              found_match = True\n",
        "              await message.delete()\n",
        "\n",
        "              recipient = await bot.fetch_user(message.author.id)\n",
        "\n",
        "              await recipient.send('The message just sent goes against UCR guidelines, message deleted')\n",
        "              for user in message.author.guild.members:\n",
        "                if user.get_role(1307415470609137747):\n",
        "                  recipient2 = await bot.fetch_user(user.id)\n",
        "                  await recipient2.send(message.author.name + \" sent a flagged message: \" + message.content)\n",
        "\n",
        "\n",
        "\n",
        "\n",
        "@bot.event\n",
        "async def on_ready():\n",
        "    print(f'We have logged in as {bot.user}')\n",
        "\n",
        "@bot.command()\n",
        "async def say(ctx, *, message: str):\n",
        "    \"bot repeates what you say\"\n",
        "    await ctx.send(message)\n",
        "\n",
        "@bot.command()\n",
        "async def sendDM(ctx, user_id: int, *, message: str):\n",
        "    \"sends a direct message to user using the bot\"\n",
        "    user = await bot.fetch_user(user_id)\n",
        "    await user.send(message)\n",
        "    await ctx.send(f\"Message sent to {user.name}.\")\n",
        "\n",
        "@bot.command()\n",
        "async def alertStaff(ctx):\n",
        "    \"alerts the Server Staff to their personal dms\"\n",
        "    for user in ctx.guild.members:\n",
        "          if user.get_role(1307415470609137747):\n",
        "            recipient = await bot.fetch_user(user.id)\n",
        "            await recipient.send(\"Help Needed in Server\")\n",
        "            await ctx.send(f\"Message sent to {user.name}.\")\n",
        "\n",
        "@bot.command()\n",
        "async def listRoles(ctx):\n",
        "    \"lists all the roles the server has\"\n",
        "    rolesList = [ f\"`{roles.name}`\" for roles in ctx.guild.roles]\n",
        "    embed = discord.Embed(\n",
        "        title=\"Roles List\",\n",
        "        description=\"\\n\".join(rolesList),\n",
        "    )\n",
        "    await ctx.send(embed=embed)\n",
        "\n",
        "@bot.command()\n",
        "@commands.has_permissions(ban_members = True)\n",
        "async def ban(ctx, member : discord.Member, *, reason = None):\n",
        "    \"bans a member that you list if you have the permission\"\n",
        "    await member.ban(reason = reason)\n",
        "\n",
        "@bot.command()\n",
        "async def spewHate(ctx):\n",
        "  \"list all the words that the server censors\"\n",
        "  for i in Sorted_Constellations:\n",
        "    await ctx.send(i)\n",
        "\n",
        "@bot.command()\n",
        "async def listCommands(ctx):\n",
        "    \"list commands the bot has\"\n",
        "    commandList = [f\"`{cmd.name}`: {cmd.help}\" for cmd in bot.commands]\n",
        "    embed = discord.Embed(\n",
        "        title=\"Command List\",\n",
        "        description=\"\\n\".join(commandList),\n",
        "    )\n",
        "    await ctx.send(embed=embed)\n",
        "\n",
        "@bot.command()\n",
        "async def time(ctx):\n",
        "    \"tells the time\"\n",
        "    timezone = pytz.timezone('America/Mexico_City')\n",
        "    currTime = datetime.now().strftime(\"%Y-%m-%d %H:%M:%S\")\n",
        "    embed = discord.Embed(\n",
        "        title=\"Time\",\n",
        "        description= tz_now,\n",
        "    )\n",
        "    await ctx.send(embed = embed)\n",
        "\n",
        "\n",
        "\n",
        "bot.run(token)"
      ]
    },
    {
      "cell_type": "code",
      "execution_count": null,
      "metadata": {
        "id": "iuw2gGkxewMr"
      },
      "outputs": [],
      "source": []
    },
    {
      "cell_type": "code",
      "execution_count": null,
      "metadata": {
        "id": "uBpyTPsZzbyX"
      },
      "outputs": [],
      "source": [
        "\n"
      ]
    }
  ],
  "metadata": {
    "colab": {
      "provenance": []
    },
    "kernelspec": {
      "display_name": "Python 3",
      "name": "python3"
    },
    "language_info": {
      "name": "python"
    }
  },
  "nbformat": 4,
  "nbformat_minor": 0
}